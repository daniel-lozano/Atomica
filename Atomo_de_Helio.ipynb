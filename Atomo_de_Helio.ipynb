{
 "metadata": {
  "name": "Atomo_de_Helio"
 },
 "nbformat": 3,
 "nbformat_minor": 0,
 "worksheets": [
  {
   "cells": [
    {
     "cell_type": "code",
     "collapsed": false,
     "input": [
      "%pylab inline\n",
      "import matplotlib.pyplot as plt\n",
      "import numpy as np\n",
      "from numpy import pi\n",
      "from scipy.fftpack import fft, fftfreq\n",
      "import math\n"
     ],
     "language": "python",
     "metadata": {},
     "outputs": [
      {
       "output_type": "stream",
       "stream": "stdout",
       "text": [
        "\n",
        "Welcome to pylab, a matplotlib-based Python environment [backend: module://IPython.zmq.pylab.backend_inline].\n",
        "For more information, type 'help(pylab)'.\n"
       ]
      }
     ],
     "prompt_number": 9
    },
    {
     "cell_type": "code",
     "collapsed": false,
     "input": [
      "du=0.0001\n",
      "l=0\n",
      "z=2\n",
      "Eo=(z**2)*(-13.6)\n",
      "e=math.e\n",
      "Umax=80000\n",
      "U=np.zeros([Umax,1],dtype=float)\n"
     ],
     "language": "python",
     "metadata": {},
     "outputs": [],
     "prompt_number": 10
    },
    {
     "cell_type": "code",
     "collapsed": false,
     "input": [
      "R=np.zeros([Umax,1],dtype=float)\n",
      "R[0]=1\n",
      "Rprime=np.zeros([Umax,1],dtype=float)\n",
      "Rprime[0]=(-1)\n",
      "Rdprime=np.zeros([Umax,1],dtype=float)\n",
      "Rdprime[0]=(0.0001)\n",
      "Po=np.zeros([Umax,1],dtype=float)\n"
     ],
     "language": "python",
     "metadata": {},
     "outputs": [],
     "prompt_number": 11
    },
    {
     "cell_type": "code",
     "collapsed": false,
     "input": [
      "\"\"\"\n",
      "se crea U\n",
      "\"\"\"\n",
      "for i in range(Umax):\n",
      "    U[i]=((i+1)*du)\n",
      "\n"
     ],
     "language": "python",
     "metadata": {},
     "outputs": [],
     "prompt_number": 12
    },
    {
     "cell_type": "code",
     "collapsed": false,
     "input": [
      "def potencial(i):\n",
      "    P=(-1-e**(-U[i]))/U[i]\n",
      "    return (-1-e**(-U[i]))/U[i]\n"
     ],
     "language": "python",
     "metadata": {},
     "outputs": [],
     "prompt_number": 13
    },
    {
     "cell_type": "code",
     "collapsed": false,
     "input": [
      "\"\"\"\n",
      "llenar el potencial\n",
      "\"\"\"\n",
      "for i in range(shape(U)[0]):\n",
      "    Po[i]=potencial(i)\n",
      "\n",
      "plot(U,Po,label=\"Potencial\")\n",
      "xlim(0,0.0100)\n",
      "legend()\n",
      "plt.show()\n",
      "plt.close()\n",
      "\n",
      "plot(U,Po,\"ko\",label=\"Potencial\")\n",
      "xlim(0,0.0020)\n",
      "plt.show()\n",
      "plt.close()"
     ],
     "language": "python",
     "metadata": {},
     "outputs": [
      {
       "output_type": "display_data",
       "png": "[encoded data removed]"
      },
      {
       "output_type": "display_data",
       "png": "[encoded data removed]"
      }
     ],
     "prompt_number": 30
    },
    {
     "cell_type": "code",
     "collapsed": false,
     "input": [
      "def llenar(i,E,dui):\n",
      "    \n",
      "    Rprime[i]=(Rprime[i-1]+dui*Rdprime[i-1]*0.5)\n",
      "    \n",
      "    R[i]=(R[i-1]+dui*Rprime[i])\n",
      "    \n",
      "    \n",
      "    \n",
      "    Rdprime[i]=((-2*Rprime[i])/U[i]+((-E/Eo)+Po[i]+l*(l+1)/(U[i]**2))*R[i])"
     ],
     "language": "python",
     "metadata": {},
     "outputs": [],
     "prompt_number": 31
    },
    {
     "cell_type": "code",
     "collapsed": false,
     "input": [
      "Energia=73\n",
      "for i in range(shape(U)[0]-1):\n",
      "    llenar(i+1,Energia,du)\n",
      "print R[Umax-1]"
     ],
     "language": "python",
     "metadata": {},
     "outputs": [
      {
       "output_type": "stream",
       "stream": "stdout",
       "text": [
        "[ 0.00485929]\n"
       ]
      }
     ],
     "prompt_number": 32
    },
    {
     "cell_type": "code",
     "collapsed": false,
     "input": [
      "#print R\n"
     ],
     "language": "python",
     "metadata": {},
     "outputs": [],
     "prompt_number": 33
    },
    {
     "cell_type": "code",
     "collapsed": false,
     "input": [
      "fin=(Umax+0.0)/10000\n",
      "\n",
      "plt.show()\n",
      "plt.close()\n",
      "\n",
      "fin=(Umax+0.0)/10000\n",
      "plot(U,R,label=\"R\")\n",
      "plot(0,\"ko\")\n",
      "legend()\n",
      "xlim(0,fin)\n",
      "xlabel(\"Coordenada Radial\")\n",
      "ylabel(\"Funcion Radial\")\n",
      "plt.title(\"Grafica de la funcion Radial\")\n",
      "plt.show()\n",
      "plt.close()\n",
      "\n",
      "\"\"\"\n",
      "plot(U,Rprime,label=\"prima\")\n",
      "legend()\n",
      "xlim(0,fin)\n",
      "plt.show()\n",
      "plt.close()\n",
      "\n",
      "\n",
      "plot(U,Rdprime,label=\"dprima\")\n",
      "legend()\n",
      "xlim(0,fin)\n",
      "plt.show()\n",
      "plt.close()\n",
      "\n",
      "\"\"\"\n"
     ],
     "language": "python",
     "metadata": {},
     "outputs": [
      {
       "output_type": "display_data",
       "png": "[encoded data removed]"
      },
      {
       "output_type": "pyout",
       "prompt_number": 34,
       "text": [
        "'\\nplot(U,Rprime,label=\"prima\")\\nlegend()\\nxlim(0,fin)\\nplt.show()\\nplt.close()\\n\\n\\nplot(U,Rdprime,label=\"dprima\")\\nlegend()\\nxlim(0,fin)\\nplt.show()\\nplt.close()\\n\\n'"
       ]
      }
     ],
     "prompt_number": 34
    },
    {
     "cell_type": "code",
     "collapsed": false,
     "input": [
      "proba=np.zeros([Umax,1],dtype=float)\n",
      "probaNor=np.zeros([Umax,1],dtype=float)"
     ],
     "language": "python",
     "metadata": {},
     "outputs": [],
     "prompt_number": 35
    },
    {
     "cell_type": "code",
     "collapsed": false,
     "input": [
      "\"\"\"\n",
      "llenando proba\n",
      "\"\"\"\n",
      "pi=math.pi\n",
      "for i in range(Umax):\n",
      "    proba[i]=4*pi*U[i]*R[i]**2\n",
      "print proba    "
     ],
     "language": "python",
     "metadata": {},
     "outputs": [
      {
       "output_type": "stream",
       "stream": "stdout",
       "text": [
        "[[ 0.00125664]\n",
        " [ 0.00251277]\n",
        " [ 0.0037684 ]\n",
        " ..., \n",
        " [ 0.00237334]\n",
        " [ 0.00237358]\n",
        " [ 0.00237381]]\n"
       ]
      }
     ],
     "prompt_number": 36
    },
    {
     "cell_type": "code",
     "collapsed": false,
     "input": [
      "suma=0.0\n",
      "print type(suma)\n",
      "for i in range(Umax):\n",
      "    suma=suma+proba[i]\n",
      "\n",
      "Norma=np.zeros([Umax,1],dtype=float)\n",
      "\n",
      "for i in range(Umax):\n",
      "    Norma[i]=R[i]/suma\n",
      "        \n",
      "plot(U,Norma)\n",
      "plt.title(\"Normalizada\")\n"
     ],
     "language": "python",
     "metadata": {},
     "outputs": [
      {
       "output_type": "stream",
       "stream": "stdout",
       "text": [
        "<type 'float'>\n"
       ]
      },
      {
       "output_type": "pyout",
       "prompt_number": 37,
       "text": [
        "<matplotlib.text.Text at 0x48cf710>"
       ]
      },
      {
       "output_type": "display_data",
       "png": "[encoded data removed]"
      }
     ],
     "prompt_number": 37
    },
    {
     "cell_type": "heading",
     "level": 1,
     "metadata": {},
     "source": [
      "Energia util para la primera aproximacion"
     ]
    },
    {
     "cell_type": "code",
     "collapsed": false,
     "input": [
      "Energia1=str(-Energia)\n",
      "print \"Energ\u00eda = \"+Energia1+\" ev\""
     ],
     "language": "python",
     "metadata": {},
     "outputs": [
      {
       "output_type": "stream",
       "stream": "stdout",
       "text": [
        "Energ\u00eda = -73 ev\n"
       ]
      }
     ],
     "prompt_number": 38
    },
    {
     "cell_type": "code",
     "collapsed": false,
     "input": [
      "for i in range(Umax):\n",
      "    probaNor[i]=4*pi*U[i]*Norma[i]**2\n",
      "    \n",
      "plot(U,probaNor)\n"
     ],
     "language": "python",
     "metadata": {},
     "outputs": [
      {
       "output_type": "pyout",
       "prompt_number": 39,
       "text": [
        "[<matplotlib.lines.Line2D at 0x48cc810>]"
       ]
      },
      {
       "output_type": "display_data",
       "png": "[encoded data removed]"
      }
     ],
     "prompt_number": 39
    },
    {
     "cell_type": "code",
     "collapsed": false,
     "input": [],
     "language": "python",
     "metadata": {},
     "outputs": [],
     "prompt_number": 595
    },
    {
     "cell_type": "code",
     "collapsed": false,
     "input": [],
     "language": "python",
     "metadata": {},
     "outputs": []
    }
   ],
   "metadata": {}
  }
 ]
}